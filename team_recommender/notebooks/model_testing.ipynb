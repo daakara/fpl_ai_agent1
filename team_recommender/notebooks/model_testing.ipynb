{
 "cells": [
  {
   "cell_type": "markdown",
   "metadata": {},
   "source": [
    "# Model Testing for Team Recommendations\n",
    "\n",
    "This notebook is used for testing different models and strategies for team recommendations. It allows for iterative refinement of the selection process based on various metrics and performance evaluations."
   ]
  },
  {
   "cell_type": "code",
   "execution_count": null,
   "metadata": {},
   "outputs": [],
   "source": [
    "import pandas as pd\n",
    "import numpy as np\n",
    "import matplotlib.pyplot as plt\n",
    "from team_recommender.src.team_recommender import get_latest_team_recommendations\n",
    "from team_recommender.src.evaluator import evaluate_team_performance\n",
    "from team_recommender.src.strategy import optimize_bench_selection\n",
    "\n",
    "# Load player and fixture data\n",
    "players_df = pd.read_csv('../data/players.csv')\n",
    "fixtures_df = pd.read_csv('../data/fixtures.csv')\n",
    "\n",
    "# Define parameters for team recommendations\n",
    "budget = 100\n",
    "formations = [(3, 4, 3), (4, 3, 3)]\n",
    "max_budget_per_player = 15\n",
    "max_players_per_club = 3\n",
    "substitute_counts = (1, 3)\n",
    "injury_penalty = 0.5\n",
    "hard_fixture_penalty = 0.8\n",
    "min_ownership = 0.0\n",
    "\n",
    "# Get initial team recommendations\n",
    "recommendations = get_latest_team_recommendations(\n",
    "    df_players=players_df,\n",
    "    budget=budget,\n",
    "    formations=formations,\n",
    "    max_budget_per_player=max_budget_per_player,\n",
    "    max_players_per_club=max_players_per_club,\n",
    "    substitute_counts=substitute_counts,\n",
    "    injury_penalty=injury_penalty,\n",
    "    hard_fixture_penalty=hard_fixture_penalty,\n",
    "    min_ownership=min_ownership\n",
    ")\n",
    "\n",
    "# Evaluate team performance\n",
    "performance_metrics = evaluate_team_performance(recommendations['team'])\n",
    "print(performance_metrics)\n",
    "\n",
    "# Optimize bench selection\n",
    "optimized_bench = optimize_bench_selection(recommendations['team'], players_df)\n",
    "print(optimized_bench)\n",
    "\n",
    "# Visualize performance metrics\n",
    "plt.figure(figsize=(10, 6))\n",
    "plt.bar(performance_metrics.keys(), performance_metrics.values())\n",
    "plt.title('Team Performance Metrics')\n",
    "plt.xlabel('Metrics')\n",
    "plt.ylabel('Values')\n",
    "plt.xticks(rotation=45)\n",
    "plt.tight_layout()\n",
    "plt.show()"
   ]
  }
 ],
 "metadata": {
  "kernelspec": {
   "display_name": "Python 3",
   "language": "python",
   "name": "python3"
  },
  "language_info": {
   "codemirror_mode": {
    "name": "ipython",
    "version": 3
   },
   "file_extension": ".py",
   "mimetype": "text/x-python",
   "name": "python",
   "nbconvert_exporter": "python",
   "pygments_lexer": "ipython3",
   "version": "3.8.5"
  }
 },
 "nbformat": 4,
 "nbformat_minor": 4
}