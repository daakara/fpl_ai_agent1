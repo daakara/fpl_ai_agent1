{
 "cells": [
  {
   "cell_type": "markdown",
   "metadata": {},
   "source": [
    "# Data Exploration\n",
    "\n",
    "This notebook is used for exploratory data analysis on player and fixture data. The goal is to visualize trends and insights that can inform team selection strategies."
   ]
  },
  {
   "cell_type": "code",
   "execution_count": null,
   "metadata": {},
   "outputs": [],
   "source": [
    "import pandas as pd\n",
    "import matplotlib.pyplot as plt\n",
    "import seaborn as sns\n",
    "\n",
    "# Load player data\n",
    "players_df = pd.read_csv('../data/players.csv')\n",
    "\n",
    "# Load fixture data\n",
    "fixtures_df = pd.read_csv('../data/fixtures.csv')\n",
    "\n",
    "# Display the first few rows of player data\n",
    "players_df.head()"
   ]
  },
  {
   "cell_type": "code",
   "execution_count": null,
   "metadata": {},
   "outputs": [],
   "source": [
    "# Display the first few rows of fixture data\n",
    "fixtures_df.head()"
   ]
  },
  {
   "cell_type": "code",
   "execution_count": null,
   "metadata": {},
   "outputs": [],
   "source": [
    "# Visualize the distribution of player costs\n",
    "plt.figure(figsize=(10, 6))\n",
    "sns.histplot(players_df['now_cost'], bins=30, kde=True)\n",
    "plt.title('Distribution of Player Costs')\n",
    "plt.xlabel('Cost (in tenths of millions)')\n",
    "plt.ylabel('Frequency')\n",
    "plt.show()"
   ]
  },
  {
   "cell_type": "code",
   "execution_count": null,
   "metadata": {},
   "outputs": [],
   "source": [
    "# Visualize expected points by player position\n",
    "plt.figure(figsize=(10, 6))\n",
    "sns.boxplot(x='element_type', y='expected_points_next_5', data=players_df)\n",
    "plt.title('Expected Points by Player Position')\n",
    "plt.xlabel('Player Position')\n",
    "plt.ylabel('Expected Points (Next 5 Matches)')\n",
    "plt.xticks(ticks=[0, 1, 2, 3], labels=['GK', 'DEF', 'MID', 'FWD'])\n",
    "plt.show()"
   ]
  },
  {
   "cell_type": "code",
   "execution_count": null,
   "metadata": {},
   "outputs": [],
   "source": [
    "# Analyze fixture difficulty\n",
    "plt.figure(figsize=(10, 6))\n",
    "sns.countplot(x='fixture_difficulty', data=fixtures_df)\n",
    "plt.title('Count of Fixtures by Difficulty')\n",
    "plt.xlabel('Fixture Difficulty')\n",
    "plt.ylabel('Count')\n",
    "plt.show()"
   ]
  },
  {
   "cell_type": "code",
   "execution_count": null,
   "metadata": {},
   "outputs": [],
   "source": [
    "# Correlation heatmap of player attributes\n",
    "plt.figure(figsize=(12, 8))\n",
    "correlation_matrix = players_df.corr()\n",
    "sns.heatmap(correlation_matrix, annot=True, fmt='.2f', cmap='coolwarm')\n",
    "plt.title('Correlation Heatmap of Player Attributes')\n",
    "plt.show()"
   ]
  }
 ],
 "metadata": {
  "kernelspec": {
   "display_name": "Python 3",
   "language": "python",
   "name": "python3"
  },
  "language_info": {
   "codemirror_mode": {
    "name": "ipython",
    "version": 3
   },
   "file_extension": ".py",
   "mimetype": "text/x-python",
   "name": "python",
   "nbconvert_exporter": "python",
   "pygments_lexer": "ipython3",
   "version": "3.8.5"
  }
 },
 "nbformat": 4,
 "nbformat_minor": 4
}